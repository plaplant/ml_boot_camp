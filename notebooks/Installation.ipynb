{
 "cells": [
  {
   "cell_type": "markdown",
   "metadata": {},
   "source": [
    "# Introduction\n",
    "\n",
    "Welcome to the world of machine learning (ML)! To actually implement some of the machine learning architectures we've discussed, we're going to be using several python packages. These packages have been developed to make the difficult business of implementing and training ML networks simpler and easier. Let's talk quickly about some of the software packages that we'll be using.\n",
    "\n",
    "## Numpy\n",
    "Numpy is a general-purpose framework for doing all kinds of numeric calculations in python. Under the hood, it calls compiled C functions, so it's incredibly fast. Any time you're trying to do some computational heavy-lifting, you should be using numpy instead of pure python.\n",
    "\n",
    "## TensorFlow\n",
    "TensorFlow is a package developed by Google for defining and working with ML applications. It is both a machine learning _frontend_ (i.e., the series of functions that the user calls to define and train the machine learning application) and computational _backend_ (i.e., the machinery that's actually training and testing the machine learning networks). Although it is possible to write ML apps entirely in TensorFlow, there are other packages available to serve as the frontend, while using TensorFlow as a backend. TensorFlow has the nice feature of automatically leveraging GPU resources if they are available, which can dramatically speed up the ML learning and prediction processes.\n",
    "\n",
    "## Keras\n",
    "Keras is a python module that serves as a frontend for ML applications. It is much more user-friendly than TensorFlow's frontend, and so it's a popular choice for quickly getting applications off the ground. Keras is able to plug into several different ML backends, including TensorFlow, so using Keras as a frontend and TensorFlow as a backend is a very common approach to ML apps.\n",
    "\n",
    "\n",
    "# Installation\n",
    "Okay, now that we've discussed some of the basics, let's talk about how to actually get started. The easiest way to keep track of the various python packages we need to install is to use [Anaconda](https://www.anaconda.com/distribution/). If you haven't already installed anaconda on your machine, you should start there.\n",
    "\n",
    "Next, let's create a new envrionment for doing all of our machine learning tasks. This helps make sure that we don't have conflicting versions of underlying libraries (like numpy) causing inconsistencies. From the command line prompt, let's do:\n",
    "\n",
    "```bash\n",
    "conda create -n ml python=3.7 anaconda\n",
    "```\n",
    "This will create a new environment called `ml` and install a default list of packages.\n",
    "\n",
    "Next, let's make sure we have all the necessary pre-requisites for installing TensorFlow and Keras. We can get most of what we need from anaconda:\n",
    "\n",
    "```bash\n",
    "conda activate ml\n",
    "conda install numpy scipy scikit-learn\n",
    "```\n",
    "Once that's done, we'll actually install TensorFlow and Keras using pip:\n",
    "```bash\n",
    "pip install tensorflow\n",
    "pip install keras\n",
    "```\n",
    "\n",
    "Now, to test that we have a working installation, let's open a new python interpreter to see if we've got everything working:\n",
    "```python\n",
    ">>> import tensorflow\n",
    ">>> import keras\n",
    "Using TensorFlow backend\n",
    "\n",
    "```\n",
    "Voilà! We have a working installation and can now get down to the business of doing machine learning!\n",
    "\n",
    "# Testing your Installation\n",
    "You can execute the code block below to see if you're ready to run Keras and TensorFlow. Note that you should be using a jupyter kernel in the environment where the packages are installed (called `ml` in the above example)."
   ]
  },
  {
   "cell_type": "code",
   "execution_count": 1,
   "metadata": {},
   "outputs": [
    {
     "name": "stderr",
     "output_type": "stream",
     "text": [
      "Using TensorFlow backend.\n"
     ]
    }
   ],
   "source": [
    "import tensorflow\n",
    "import keras"
   ]
  },
  {
   "cell_type": "code",
   "execution_count": null,
   "metadata": {},
   "outputs": [],
   "source": []
  }
 ],
 "metadata": {
  "kernelspec": {
   "display_name": "Python [conda env:ml]",
   "language": "python",
   "name": "conda-env-ml-py"
  },
  "language_info": {
   "codemirror_mode": {
    "name": "ipython",
    "version": 3
   },
   "file_extension": ".py",
   "mimetype": "text/x-python",
   "name": "python",
   "nbconvert_exporter": "python",
   "pygments_lexer": "ipython3",
   "version": "3.7.3"
  }
 },
 "nbformat": 4,
 "nbformat_minor": 2
}
