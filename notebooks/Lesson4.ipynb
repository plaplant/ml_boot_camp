{
 "cells": [
  {
   "cell_type": "markdown",
   "metadata": {},
   "source": [
    "# HERA Data\n",
    "We're now going to transition from the nice, straightforward world of handwritten digits to the Wild, Wild West of Radio Astronomy. Most of our research projects will be dealing with handling HERA data. We're going to briefly talk about what data is contained in HERA data products, and how to work with them. This is only the briefest of overviews necessary to understand what's in a HERA dataset, and there will be resources listed at the end where you can go for more information.\n",
    "\n",
    "# Radio Astronomy 101\n",
    "HERA is an _interferometer_, which means that we take the input signals from many input antennas and use the interference patterns to learn about the sky. It's a little counter-intuitive, because HERA does not take pictures of the sky in the traditional sense that we think of when we imagine telescopes. Let's work through a quick-and-dirty discussion of what we're doing when we use an interferometer, and what exactly we save in a HERA dataset.\n",
    "\n",
    "## From Sky Emission to Visibilities\n",
    "Let us take the simplest case we can for an interferometer: two antennas pointed at a single source in the sky. The electromagnetic radiation from this source (which can safely be approximated as a plane wave due to the astronomical distances involved) will reach one of the antennas before the second one. This geometrical delay is due entirely to the slightly longer path that the source must take to reach the second antenna compared to the first. See the image below (credit: NRAO):\n",
    "\n",
    "![Basic Radio Interferometer Setup. Credit: NRAO](images/intblock.png)\n",
    "\n",
    "In the image, the source is in a direction $\\hat{s}$, and the vector connecting the antennas is $\\vec{b}$. The geometrical delay $\\tau_g$ is then:\n",
    "$$\n",
    "\\tau_g = \\frac{\\vec{b} \\cdot \\hat{s}}{c},\n",
    "$$\n",
    "where $c$ is the speed of light. Now, let's suppose we're observing the source at a frequency centerd at $\\nu = \\omega/(2\\pi)$. We can write the output voltages of antennas 1 and 2 $V_1$ and $V_2$ as:\n",
    "$$\n",
    "V_1 = A \\cos\\left[\\omega(t - \\tau_g)\\right],\n",
    "$$\n",
    "and\n",
    "$$\n",
    "V_2 = A \\cos(\\omega t),\n",
    "$$\n",
    "where $A$ is the amplitude of the signal received in each antenna. If we cross-multiply these two voltages, we have:\n",
    "$$\n",
    "V_1 V_2 = A^2 \\cos(\\omega t)\\cos\\left[\\omega(t-\\tau_g)\\right] = \\left( \\frac{A^2}{2} \\right)\\left[\\cos(2\\omega t - \\omega \\tau_g) + \\cos(\\omega \\tau_g)\\right].\n",
    "$$\n",
    "If we take the time average over a long time ($\\Delta t \\gg (2\\omega)^{-1}$), the rapidly oscillating first term will average to 0, and we'll just be left with the second term:\n",
    "$$\n",
    "R \\equiv \\left \\langle V_1 V_2 \\right \\rangle = \\left( \\frac{A^2}{2} \\right) \\cos(\\omega \\tau_g).\n",
    "$$\n",
    "This is the the response of a two-element interferometer observing a point source in the direction $\\hat{s}$. If we do not move the antennas to track the source, and instead let the source pass through the part of the sky at which the antennas are pointed, we would end up with the amplitude pattern seen in the figure. The wide Gaussian-like envelope is due to the _primary beam_ of the antenna: the antenna is most sensitive to emission in the direction in which it's pointed, and so the amplitude generally increases and then decreases as the source passes through the point at which the antenna is pointed.\n",
    "\n",
    "### The Whole Sky\n",
    "In the example above, we focused on the response of the interferometer to a single point source. If we wanted to get the instantaneous response of the interferometer to _all_ parts of the sky, we treat each point of the sky separately, and sum over all of them by integrating:\n",
    "$$\n",
    "R_\\mathrm{cos}(\\nu) = \\int \\mathrm{d} \\Omega \\, I_\\nu (\\hat{s}) \\cos\\left(\\frac{2 \\pi \\nu \\vec{b} \\cdot \\hat{s}}{c}\\right)\n",
    "$$\n",
    "This is the even (cosine) response of the interferometer to the whole sky. Note that implicitly the factor $I_\\nu (\\hat{s})$ is the product of the intrinsic brightness of the sky in that direction multiplied by the response of the antenna in that direction.\n",
    "\n",
    "### Complex Visibilities\n",
    "In the example above, we assumed that the correlator was measuring the even (cosine) component of the incoming radiation. If the signal were not identically even, then we'd lose information by only capturing this component. If we induce a phase shift of $\\pi/2$ and perform the time-average of the product of voltages (i.e., compute the correlation), then we'd end up with something proportional to $R_\\mathrm{sin} \\propto \\sin(\\omega \\tau_g)$, and be sensitive to the odd components of the signal. Using the identity that\n",
    "$$\n",
    "e^{i \\phi} = \\cos(\\phi) + i \\sin(\\phi),\n",
    "$$\n",
    "we can rewrite the total complex visibility $V$ as:\n",
    "$$\n",
    "V(\\nu) \\equiv R_\\mathrm{cos}(\\nu) - i R_\\mathrm{sin}(\\nu) = \\int \\mathrm{d}\\Omega \\, I_\\nu(\\hat{s}) \\exp\\left(\\frac{-2 \\pi i \\nu \\vec{b} \\cdot \\hat{s}}{c}\\right).\n",
    "$$\n",
    "This is known as the radio interferometry measurement equation (RIME), and represents the fundamental quantity that an interferometer is measuring. The visibility is a complex quantity that is a function of frequency, and can change in time. So, we typically record visibilities as complex numbers as a function of frequency $\\nu$ and time $t$.\n",
    "\n",
    "## The Case of HERA\n",
    "The toy model we saw above is the simplest possible case of an interferometer. Now we'd like to build up to something more complicated. To begin with, if we have multiple antennas, we can treat the signal from the pair as if it were the only one we're looking at. Because we can do this for all such pairs of antennas, for an array of $N$ antennas, we have $N(N-1)/2$ unique baseline combinations. (The factor of two is because the cross-correlation of $V_2 V_1$ is redundant with that of $V_1 V_2$—can you work out why?) We can also record the autocorrelations (the cross-correlation of an antenna with itself), which gives us an additional $N$ measurements. So the total number of complex numbers we have to write down is:\n",
    "$$\n",
    "N_\\mathrm{tot} = N_\\mathrm{ant}\\times (N_\\mathrm{ant}+1)/2 \\times N_\\mathrm{frequencies} \\times N_\\mathrm{times}.\n",
    "$$\n",
    "This number can get very large in a hurry! When HERA is fully constructed, we'll have 350 antennas, 6,144 frequency channels, and write out data every two seconds.\n",
    "\n",
    "### Radio Astronomy: The Biggest Big Data\n",
    "Quick exercise: what is the projected data rate of HERA when it's fully constructed? Assume that each complex number takes 8 bytes to record (4 bytes each for the real and imaginary components). Give your answer in GB/s. HERA is planning to record 12 hours per night for six months (180 days). What is the total data volume over this period? (The number is actually larger by a factor of 4—there are 4 instrumental polarizations measured as well, which are each recorded separately. "
   ]
  },
  {
   "cell_type": "markdown",
   "metadata": {},
   "source": [
    "# Looking at Data from HERA\n",
    "Now that we've covered the basics of what's in HERA data, let's actually take a look. Remember: a visibility dataset is a complex number defined for an antenna pair $i$ and $j$, frequency $\\nu$, and time $t$. Let's read in some data."
   ]
  },
  {
   "cell_type": "code",
   "execution_count": 2,
   "metadata": {},
   "outputs": [],
   "source": [
    "%matplotlib inline\n",
    "import numpy as np\n",
    "import matplotlib.pyplot as plt\n",
    "from pyuvdata import UVData\n",
    "uvd = UVData()\n",
    "uvd.read_uvh5(\"data/zen.2458432.34569.uvh5\")"
   ]
  },
  {
   "cell_type": "markdown",
   "metadata": {},
   "source": [
    "Before plotting data, let's look at some of the metadata associated with this file. Visibility datasets are mostly the data itself (which can be quite large, as you saw above!), but have essential metadata to help us understand what we're looking at. The full documentation for pyuvdata is avilable on [Read the Docs](https://pyuvdata.readthedocs.io/en/latest/), but here is a crash-course on how to work with the files."
   ]
  },
  {
   "cell_type": "code",
   "execution_count": 7,
   "metadata": {},
   "outputs": [
    {
     "name": "stdout",
     "output_type": "stream",
     "text": [
      "Number of frequencies:  64\n",
      "Number of times:  8\n",
      "Number of antennas:  4\n",
      "Number of polarizations:  4\n",
      "Dimensions of data:  (80, 1, 64, 4)\n"
     ]
    }
   ],
   "source": [
    "# print some metadata about the dataset\n",
    "print(\"Number of frequencies: \", uvd.Nfreqs)\n",
    "print(\"Number of times: \", uvd.Ntimes)\n",
    "print(\"Number of antennas: \", uvd.Nants_data)\n",
    "print(\"Number of polarizations: \", uvd.Npols)\n",
    "\n",
    "# print out the size of the actual data array\n",
    "print(\"Dimensions of data: \", uvd.data_array.shape)"
   ]
  },
  {
   "cell_type": "markdown",
   "metadata": {},
   "source": [
    "## Spectrum Plots\n",
    "One common way to look at the data from HERA is to look at the instantaneous _spectrum_, which is the visibility at a single moment in time for all frequencies. We can use some of the builtin methods in pyuvdata to get bits of data that we are interested in."
   ]
  },
  {
   "cell_type": "markdown",
   "metadata": {},
   "source": [
    "## Waterfall Plots\n",
    "One of the most basic ways we visualize HERA data is what we call a _waterfall plot_. This is the complex visibility for a given baseline (pair of antennas), as a function of time and frequency. Let's start by plotting the amplitude and phase of a waterfall."
   ]
  },
  {
   "cell_type": "code",
   "execution_count": null,
   "metadata": {},
   "outputs": [],
   "source": []
  }
 ],
 "metadata": {
  "kernelspec": {
   "display_name": "Python [conda env:ml]",
   "language": "python",
   "name": "conda-env-ml-py"
  },
  "language_info": {
   "codemirror_mode": {
    "name": "ipython",
    "version": 3
   },
   "file_extension": ".py",
   "mimetype": "text/x-python",
   "name": "python",
   "nbconvert_exporter": "python",
   "pygments_lexer": "ipython3",
   "version": "3.7.3"
  }
 },
 "nbformat": 4,
 "nbformat_minor": 2
}
